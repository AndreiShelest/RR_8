{
 "cells": [
  {
   "cell_type": "markdown",
   "metadata": {},
   "source": [
    "### James Bond Films\n",
    "\n",
    "![Skyfall](skyfall_poster.jpg \"Skyfall (2012)\")\n",
    "\n",
    "In this notebook we will analyze box office and budget of *James Bond* films. The information is based on the Wikipedia page https://en.wikipedia.org/wiki/List_of_James_Bond_films.\n",
    "\n",
    "A couple of notes:\n",
    "\n",
    " - Budget expenditures are averaged where only range is given"
   ]
  },
  {
   "cell_type": "code",
   "execution_count": null,
   "metadata": {},
   "outputs": [],
   "source": [
    "import pandas as pd\n",
    "import matplotlib.pyplot as plt"
   ]
  }
 ],
 "metadata": {
  "kernelspec": {
   "display_name": "rr_project",
   "language": "python",
   "name": "python3"
  },
  "language_info": {
   "codemirror_mode": {
    "name": "ipython",
    "version": 3
   },
   "file_extension": ".py",
   "mimetype": "text/x-python",
   "name": "python",
   "nbconvert_exporter": "python",
   "pygments_lexer": "ipython3",
   "version": "3.12.2"
  }
 },
 "nbformat": 4,
 "nbformat_minor": 2
}
